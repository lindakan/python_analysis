{
 "cells": [
  {
   "cell_type": "code",
   "execution_count": 3,
   "metadata": {},
   "outputs": [
    {
     "name": "stdout",
     "output_type": "stream",
     "text": [
      "Requirement already satisfied: openpyxl in /opt/conda/lib/python3.12/site-packages (3.1.5)\n",
      "Requirement already satisfied: et-xmlfile in /opt/conda/lib/python3.12/site-packages (from openpyxl) (2.0.0)\n",
      "\u001b[33mWARNING: Running pip as the 'root' user can result in broken permissions and conflicting behaviour with the system package manager, possibly rendering your system unusable.It is recommended to use a virtual environment instead: https://pip.pypa.io/warnings/venv. Use the --root-user-action option if you know what you are doing and want to suppress this warning.\u001b[0m\u001b[33m\n",
      "\u001b[0mNote: you may need to restart the kernel to use updated packages.\n",
      "資料已成功轉換為 JSON 格式並儲存到 output.json\n"
     ]
    }
   ],
   "source": [
    "%pip install openpyxl\n",
    "\n",
    "import pandas as pd\n",
    "import json\n",
    "\n",
    "# 讀取 Excel 文件中的工作表1\n",
    "excel_file = '2024122001華亞廠庶務請購.xlsx'\n",
    "df = pd.read_excel(excel_file, sheet_name='工作表1')\n",
    "\n",
    "# 將資料轉換為 JSON 格式\n",
    "json_data = df.to_json(orient='records', force_ascii=False)\n",
    "\n",
    "# 將 JSON 資料寫入檔案\n",
    "with open('output.json', 'w', encoding='utf-8') as f:\n",
    "    f.write(json_data)\n",
    "\n",
    "print(\"資料已成功轉換為 JSON 格式並儲存到 output.json\")"
   ]
  },
  {
   "cell_type": "code",
   "execution_count": null,
   "metadata": {},
   "outputs": [
    {
     "name": "stdout",
     "output_type": "stream",
     "text": [
      "發送郵件時發生錯誤: (535, b'5.7.0 Reject due to authentication failure of: lindakan (50I8PDnH4030959 bkauthspam)')\n"
     ]
    }
   ],
   "source": [
    "import pandas as pd\n",
    "import json\n",
    "import smtplib\n",
    "from email.mime.multipart import MIMEMultipart\n",
    "from email.mime.text import MIMEText\n",
    "from datetime import datetime\n",
    "\n",
    "# 讀取 JSON 文件\n",
    "with open('/home/python_analysis/output.json', 'r', encoding='utf-8') as f:\n",
    "    data = json.load(f)\n",
    "\n",
    "# 將 JSON 轉換為 DataFrame\n",
    "df = pd.DataFrame(data)\n",
    "\n",
    "# 過濾出廠商為 \"史泰博\" 的資料\n",
    "filtered_df = df[df['廠商'] == '史泰博']\n",
    "\n",
    "# 提取所需的欄位值\n",
    "selected_columns = filtered_df[['品號', '商品名稱', '單位', '數量']]\n",
    "\n",
    "# 將資料轉換為 HTML 表格格式\n",
    "html_table = selected_columns.to_html(index=False)\n",
    "\n",
    "# 設定郵件內容\n",
    "today_date = datetime.today().strftime('%Y-%m-%d')\n",
    "subject = f\" <華亞廠><史泰博>訂單A2024122001，發包日 {today_date}\"\n",
    "body = f\"\"\"\n",
    "<p>您好，</p>\n",
    "<p>以下是史泰博的訂單資料：</p>\n",
    "{html_table}\n",
    "<p>謝謝！</p>\n",
    "\"\"\"\n",
    "\n",
    "# 設定郵件參數\n",
    "sender_email = \"lindakan@jentech.com.tw\"\n",
    "receiver_email = \"lindakan88@gmail.com\"\n",
    "password = \"Sam0017a\"\n",
    "\n",
    "# 建立郵件訊息\n",
    "msg = MIMEMultipart()\n",
    "msg['From'] = sender_email\n",
    "msg['To'] = receiver_email\n",
    "msg['Subject'] = subject\n",
    "msg.attach(MIMEText(body, 'html'))\n",
    "\n",
    "# 發送郵件\n",
    "try:\n",
    "    with smtplib.SMTP('mail.jentech.com.tw', 587) as server:\n",
    "        server.starttls()\n",
    "        server.login(sender_email, password)\n",
    "        server.sendmail(sender_email, receiver_email, msg.as_string())\n",
    "    print(\"郵件已成功發送\")\n",
    "except Exception as e:\n",
    "    print(f\"發送郵件時發生錯誤: {e}\")"
   ]
  }
 ],
 "metadata": {
  "kernelspec": {
   "display_name": "base",
   "language": "python",
   "name": "python3"
  },
  "language_info": {
   "codemirror_mode": {
    "name": "ipython",
    "version": 3
   },
   "file_extension": ".py",
   "mimetype": "text/x-python",
   "name": "python",
   "nbconvert_exporter": "python",
   "pygments_lexer": "ipython3",
   "version": "3.12.2"
  }
 },
 "nbformat": 4,
 "nbformat_minor": 2
}
