{
 "cells": [
  {
   "cell_type": "code",
   "execution_count": 2,
   "metadata": {},
   "outputs": [
    {
     "data": {
      "text/plain": [
       "4"
      ]
     },
     "execution_count": 2,
     "metadata": {},
     "output_type": "execute_result"
    }
   ],
   "source": [
    "numbers=[1,2,3,4,5] #使用符號建立\n",
    "mixed_list=[1,\"hello\",3,14,True] #元素\n",
    "empty_list=[]\n",
    "list_from_range = list(range(5))\n",
    "list_from_range\n",
    "\n",
    "#list操作\n",
    "list_from_range[4] #subscript"
   ]
  },
  {
   "cell_type": "code",
   "execution_count": 4,
   "metadata": {},
   "outputs": [
    {
     "data": {
      "text/plain": [
       "[1, 3, 5, 7, 9]"
      ]
     },
     "execution_count": 4,
     "metadata": {},
     "output_type": "execute_result"
    }
   ],
   "source": [
    "range(5)\n",
    "range(1,5)\n",
    "list(range(1,10,2))"
   ]
  },
  {
   "cell_type": "code",
   "execution_count": 10,
   "metadata": {},
   "outputs": [
    {
     "name": "stdout",
     "output_type": "stream",
     "text": [
      "linda\n",
      "50\n"
     ]
    }
   ],
   "source": [
    "p1={'name':'linda',\n",
    " 'age':50,\n",
    " 'city':'Taoyuan'}\n",
    "print(p1['name'])\n",
    "print(p1.get('age'))\n"
   ]
  },
  {
   "cell_type": "code",
   "execution_count": 12,
   "metadata": {},
   "outputs": [
    {
     "name": "stdout",
     "output_type": "stream",
     "text": [
      "linda\n",
      "50\n"
     ]
    }
   ],
   "source": [
    "print(p1['name'])\n",
    "print(p1.get('age'))"
   ]
  },
  {
   "cell_type": "code",
   "execution_count": 13,
   "metadata": {},
   "outputs": [
    {
     "name": "stdout",
     "output_type": "stream",
     "text": [
      "0->apple\n",
      "==========\n",
      "1->orage\n",
      "==========\n",
      "2->scrowstrbarry\n",
      "==========\n"
     ]
    }
   ],
   "source": [
    "fruits=['apple','orage','scrowstrbarry']\n",
    "for index, fruit in enumerate(fruits):\n",
    "    print(index, fruit, sep='->')\n",
    "    print(\"==========\")"
   ]
  },
  {
   "cell_type": "code",
   "execution_count": 14,
   "metadata": {},
   "outputs": [
    {
     "name": "stdout",
     "output_type": "stream",
     "text": [
      "Taipei: 台北\n",
      "New Taipei: 新北市\n",
      "Taoyuan: 桃園\n",
      "Taichung: 台中\n",
      "Tainan: 台南\n",
      "Kaohsiung: 高雄\n",
      "Keelung: 基隆\n",
      "Hsinchu: 新竹\n",
      "Chiayi: 嘉義\n",
      "Hualien: 花蓮\n"
     ]
    }
   ],
   "source": [
    "cities = {\n",
    "    'Taipei': '台北',\n",
    "    'New Taipei': '新北市',\n",
    "    'Taoyuan': '桃園',\n",
    "    'Taichung': '台中',\n",
    "    'Tainan': '台南',\n",
    "    'Kaohsiung': '高雄',\n",
    "    'Keelung': '基隆',\n",
    "    'Hsinchu': '新竹',\n",
    "    'Chiayi': '嘉義',\n",
    "    'Hualien': '花蓮'\n",
    "}\n",
    "for key, value in cities.items():\n",
    "    print(f\"{key}: {value}\")"
   ]
  },
  {
   "cell_type": "code",
   "execution_count": 16,
   "metadata": {},
   "outputs": [
    {
     "name": "stdout",
     "output_type": "stream",
     "text": [
      "{'NAME': 'student1', 'CHINESE': 98, 'ENGLISH': 31, 'MATH': 10, 'HISTORY': 61, 'HEALTH': 61}\n",
      "{'NAME': 'student2', 'CHINESE': 42, 'ENGLISH': 70, 'MATH': 62, 'HISTORY': 29, 'HEALTH': 11}\n",
      "{'NAME': 'student3', 'CHINESE': 13, 'ENGLISH': 78, 'MATH': 33, 'HISTORY': 4, 'HEALTH': 15}\n",
      "{'NAME': 'student4', 'CHINESE': 21, 'ENGLISH': 42, 'MATH': 95, 'HISTORY': 36, 'HEALTH': 32}\n",
      "{'NAME': 'student5', 'CHINESE': 63, 'ENGLISH': 68, 'MATH': 99, 'HISTORY': 11, 'HEALTH': 2}\n",
      "{'NAME': 'student6', 'CHINESE': 17, 'ENGLISH': 73, 'MATH': 42, 'HISTORY': 63, 'HEALTH': 95}\n",
      "{'NAME': 'student7', 'CHINESE': 90, 'ENGLISH': 43, 'MATH': 49, 'HISTORY': 53, 'HEALTH': 7}\n",
      "{'NAME': 'student8', 'CHINESE': 86, 'ENGLISH': 34, 'MATH': 76, 'HISTORY': 23, 'HEALTH': 68}\n",
      "{'NAME': 'student9', 'CHINESE': 36, 'ENGLISH': 4, 'MATH': 26, 'HISTORY': 86, 'HEALTH': 91}\n",
      "{'NAME': 'student10', 'CHINESE': 79, 'ENGLISH': 28, 'MATH': 38, 'HISTORY': 33, 'HEALTH': 82}\n",
      "{'NAME': 'student11', 'CHINESE': 39, 'ENGLISH': 99, 'MATH': 99, 'HISTORY': 39, 'HEALTH': 87}\n",
      "{'NAME': 'student12', 'CHINESE': 76, 'ENGLISH': 57, 'MATH': 37, 'HISTORY': 13, 'HEALTH': 79}\n",
      "{'NAME': 'student13', 'CHINESE': 91, 'ENGLISH': 25, 'MATH': 14, 'HISTORY': 46, 'HEALTH': 97}\n",
      "{'NAME': 'student14', 'CHINESE': 6, 'ENGLISH': 13, 'MATH': 9, 'HISTORY': 33, 'HEALTH': 18}\n",
      "{'NAME': 'student15', 'CHINESE': 94, 'ENGLISH': 16, 'MATH': 82, 'HISTORY': 56, 'HEALTH': 78}\n",
      "{'NAME': 'student16', 'CHINESE': 58, 'ENGLISH': 53, 'MATH': 72, 'HISTORY': 52, 'HEALTH': 89}\n",
      "{'NAME': 'student17', 'CHINESE': 7, 'ENGLISH': 66, 'MATH': 98, 'HISTORY': 12, 'HEALTH': 5}\n",
      "{'NAME': 'student18', 'CHINESE': 98, 'ENGLISH': 100, 'MATH': 97, 'HISTORY': 74, 'HEALTH': 75}\n",
      "{'NAME': 'student19', 'CHINESE': 98, 'ENGLISH': 8, 'MATH': 88, 'HISTORY': 36, 'HEALTH': 85}\n",
      "{'NAME': 'student20', 'CHINESE': 11, 'ENGLISH': 22, 'MATH': 13, 'HISTORY': 48, 'HEALTH': 48}\n",
      "{'NAME': 'student21', 'CHINESE': 49, 'ENGLISH': 20, 'MATH': 82, 'HISTORY': 8, 'HEALTH': 50}\n",
      "{'NAME': 'student22', 'CHINESE': 95, 'ENGLISH': 71, 'MATH': 69, 'HISTORY': 84, 'HEALTH': 22}\n",
      "{'NAME': 'student23', 'CHINESE': 83, 'ENGLISH': 29, 'MATH': 9, 'HISTORY': 82, 'HEALTH': 75}\n",
      "{'NAME': 'student24', 'CHINESE': 11, 'ENGLISH': 94, 'MATH': 94, 'HISTORY': 1, 'HEALTH': 15}\n",
      "{'NAME': 'student25', 'CHINESE': 26, 'ENGLISH': 53, 'MATH': 19, 'HISTORY': 61, 'HEALTH': 45}\n",
      "{'NAME': 'student26', 'CHINESE': 54, 'ENGLISH': 61, 'MATH': 71, 'HISTORY': 17, 'HEALTH': 34}\n",
      "{'NAME': 'student27', 'CHINESE': 41, 'ENGLISH': 64, 'MATH': 31, 'HISTORY': 79, 'HEALTH': 5}\n",
      "{'NAME': 'student28', 'CHINESE': 32, 'ENGLISH': 87, 'MATH': 76, 'HISTORY': 53, 'HEALTH': 67}\n",
      "{'NAME': 'student29', 'CHINESE': 67, 'ENGLISH': 56, 'MATH': 76, 'HISTORY': 20, 'HEALTH': 38}\n",
      "{'NAME': 'student30', 'CHINESE': 44, 'ENGLISH': 19, 'MATH': 69, 'HISTORY': 52, 'HEALTH': 61}\n",
      "{'NAME': 'student31', 'CHINESE': 23, 'ENGLISH': 10, 'MATH': 46, 'HISTORY': 63, 'HEALTH': 65}\n",
      "{'NAME': 'student32', 'CHINESE': 92, 'ENGLISH': 48, 'MATH': 31, 'HISTORY': 39, 'HEALTH': 98}\n",
      "{'NAME': 'student33', 'CHINESE': 65, 'ENGLISH': 42, 'MATH': 61, 'HISTORY': 86, 'HEALTH': 8}\n",
      "{'NAME': 'student34', 'CHINESE': 4, 'ENGLISH': 90, 'MATH': 70, 'HISTORY': 91, 'HEALTH': 30}\n",
      "{'NAME': 'student35', 'CHINESE': 96, 'ENGLISH': 45, 'MATH': 77, 'HISTORY': 61, 'HEALTH': 34}\n",
      "{'NAME': 'student36', 'CHINESE': 71, 'ENGLISH': 98, 'MATH': 19, 'HISTORY': 57, 'HEALTH': 75}\n",
      "{'NAME': 'student37', 'CHINESE': 100, 'ENGLISH': 68, 'MATH': 8, 'HISTORY': 80, 'HEALTH': 26}\n",
      "{'NAME': 'student38', 'CHINESE': 87, 'ENGLISH': 57, 'MATH': 19, 'HISTORY': 47, 'HEALTH': 70}\n",
      "{'NAME': 'student39', 'CHINESE': 98, 'ENGLISH': 10, 'MATH': 42, 'HISTORY': 61, 'HEALTH': 21}\n",
      "{'NAME': 'student40', 'CHINESE': 53, 'ENGLISH': 50, 'MATH': 79, 'HISTORY': 67, 'HEALTH': 11}\n",
      "{'NAME': 'student41', 'CHINESE': 96, 'ENGLISH': 85, 'MATH': 24, 'HISTORY': 28, 'HEALTH': 24}\n",
      "{'NAME': 'student42', 'CHINESE': 36, 'ENGLISH': 85, 'MATH': 25, 'HISTORY': 54, 'HEALTH': 33}\n",
      "{'NAME': 'student43', 'CHINESE': 53, 'ENGLISH': 82, 'MATH': 78, 'HISTORY': 64, 'HEALTH': 20}\n",
      "{'NAME': 'student44', 'CHINESE': 27, 'ENGLISH': 20, 'MATH': 90, 'HISTORY': 20, 'HEALTH': 46}\n",
      "{'NAME': 'student45', 'CHINESE': 47, 'ENGLISH': 43, 'MATH': 3, 'HISTORY': 17, 'HEALTH': 65}\n",
      "{'NAME': 'student46', 'CHINESE': 55, 'ENGLISH': 25, 'MATH': 100, 'HISTORY': 72, 'HEALTH': 55}\n",
      "{'NAME': 'student47', 'CHINESE': 66, 'ENGLISH': 22, 'MATH': 93, 'HISTORY': 95, 'HEALTH': 85}\n",
      "{'NAME': 'student48', 'CHINESE': 92, 'ENGLISH': 58, 'MATH': 4, 'HISTORY': 31, 'HEALTH': 96}\n",
      "{'NAME': 'student49', 'CHINESE': 61, 'ENGLISH': 97, 'MATH': 62, 'HISTORY': 3, 'HEALTH': 43}\n",
      "{'NAME': 'student50', 'CHINESE': 72, 'ENGLISH': 79, 'MATH': 46, 'HISTORY': 57, 'HEALTH': 15}\n"
     ]
    }
   ],
   "source": [
    "import random\n",
    "import string\n",
    "\n",
    "#請幫我產生50組學生的資料，包括NAME及5科成績，依序欄位為CHINESE、ENGLISH、MATH、HISTORY、HEALTH。\n",
    "students = []\n",
    "for i in range(1,51):\n",
    "    name = f'student{i}'\n",
    "    chinese = random.randint(0, 100)\n",
    "    english = random.randint(0, 100)\n",
    "    math = random.randint(0, 100)\n",
    "    history = random.randint(0, 100)\n",
    "    health = random.randint(0, 100)\n",
    "    students.append({'NAME': name, 'CHINESE': chinese, 'ENGLISH': english, 'MATH': math, 'HISTORY': history, 'HEALTH': health})\n",
    "\n",
    "for student in students:\n",
    "    print(student)"
   ]
  }
 ],
 "metadata": {
  "kernelspec": {
   "display_name": "base",
   "language": "python",
   "name": "python3"
  },
  "language_info": {
   "codemirror_mode": {
    "name": "ipython",
    "version": 3
   },
   "file_extension": ".py",
   "mimetype": "text/x-python",
   "name": "python",
   "nbconvert_exporter": "python",
   "pygments_lexer": "ipython3",
   "version": "3.12.8"
  }
 },
 "nbformat": 4,
 "nbformat_minor": 2
}
