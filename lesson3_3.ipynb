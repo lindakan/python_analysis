{
 "cells": [
  {
   "cell_type": "code",
   "execution_count": 2,
   "metadata": {},
   "outputs": [
    {
     "name": "stdout",
     "output_type": "stream",
     "text": [
      "{'NAME': 'student1', 'CHINESE': 26, 'ENGLISH': 4, 'MATH': 17, 'HISTORY': 70, 'HEALTH': 49}\n",
      "{'NAME': 'student2', 'CHINESE': 0, 'ENGLISH': 16, 'MATH': 32, 'HISTORY': 28, 'HEALTH': 17}\n",
      "{'NAME': 'student3', 'CHINESE': 13, 'ENGLISH': 89, 'MATH': 68, 'HISTORY': 27, 'HEALTH': 91}\n",
      "{'NAME': 'student4', 'CHINESE': 86, 'ENGLISH': 62, 'MATH': 75, 'HISTORY': 29, 'HEALTH': 61}\n",
      "{'NAME': 'student5', 'CHINESE': 89, 'ENGLISH': 59, 'MATH': 70, 'HISTORY': 33, 'HEALTH': 22}\n",
      "{'NAME': 'student6', 'CHINESE': 38, 'ENGLISH': 72, 'MATH': 37, 'HISTORY': 68, 'HEALTH': 47}\n",
      "{'NAME': 'student7', 'CHINESE': 63, 'ENGLISH': 14, 'MATH': 33, 'HISTORY': 84, 'HEALTH': 7}\n",
      "{'NAME': 'student8', 'CHINESE': 35, 'ENGLISH': 11, 'MATH': 76, 'HISTORY': 97, 'HEALTH': 80}\n",
      "{'NAME': 'student9', 'CHINESE': 48, 'ENGLISH': 45, 'MATH': 60, 'HISTORY': 23, 'HEALTH': 17}\n",
      "{'NAME': 'student10', 'CHINESE': 15, 'ENGLISH': 49, 'MATH': 47, 'HISTORY': 55, 'HEALTH': 90}\n",
      "{'NAME': 'student11', 'CHINESE': 58, 'ENGLISH': 15, 'MATH': 98, 'HISTORY': 99, 'HEALTH': 12}\n",
      "{'NAME': 'student12', 'CHINESE': 20, 'ENGLISH': 78, 'MATH': 86, 'HISTORY': 24, 'HEALTH': 59}\n",
      "{'NAME': 'student13', 'CHINESE': 82, 'ENGLISH': 64, 'MATH': 23, 'HISTORY': 49, 'HEALTH': 75}\n",
      "{'NAME': 'student14', 'CHINESE': 5, 'ENGLISH': 90, 'MATH': 40, 'HISTORY': 76, 'HEALTH': 92}\n",
      "{'NAME': 'student15', 'CHINESE': 66, 'ENGLISH': 88, 'MATH': 77, 'HISTORY': 99, 'HEALTH': 64}\n",
      "{'NAME': 'student16', 'CHINESE': 30, 'ENGLISH': 56, 'MATH': 41, 'HISTORY': 53, 'HEALTH': 69}\n",
      "{'NAME': 'student17', 'CHINESE': 5, 'ENGLISH': 0, 'MATH': 16, 'HISTORY': 58, 'HEALTH': 78}\n",
      "{'NAME': 'student18', 'CHINESE': 3, 'ENGLISH': 17, 'MATH': 8, 'HISTORY': 55, 'HEALTH': 74}\n",
      "{'NAME': 'student19', 'CHINESE': 13, 'ENGLISH': 43, 'MATH': 49, 'HISTORY': 78, 'HEALTH': 13}\n",
      "{'NAME': 'student20', 'CHINESE': 89, 'ENGLISH': 79, 'MATH': 5, 'HISTORY': 50, 'HEALTH': 8}\n",
      "{'NAME': 'student21', 'CHINESE': 73, 'ENGLISH': 61, 'MATH': 18, 'HISTORY': 8, 'HEALTH': 49}\n",
      "{'NAME': 'student22', 'CHINESE': 20, 'ENGLISH': 81, 'MATH': 22, 'HISTORY': 86, 'HEALTH': 41}\n",
      "{'NAME': 'student23', 'CHINESE': 60, 'ENGLISH': 44, 'MATH': 69, 'HISTORY': 57, 'HEALTH': 57}\n",
      "{'NAME': 'student24', 'CHINESE': 8, 'ENGLISH': 45, 'MATH': 98, 'HISTORY': 65, 'HEALTH': 47}\n",
      "{'NAME': 'student25', 'CHINESE': 43, 'ENGLISH': 80, 'MATH': 17, 'HISTORY': 49, 'HEALTH': 31}\n",
      "{'NAME': 'student26', 'CHINESE': 24, 'ENGLISH': 12, 'MATH': 12, 'HISTORY': 56, 'HEALTH': 61}\n",
      "{'NAME': 'student27', 'CHINESE': 12, 'ENGLISH': 37, 'MATH': 80, 'HISTORY': 30, 'HEALTH': 45}\n",
      "{'NAME': 'student28', 'CHINESE': 99, 'ENGLISH': 90, 'MATH': 75, 'HISTORY': 70, 'HEALTH': 94}\n",
      "{'NAME': 'student29', 'CHINESE': 99, 'ENGLISH': 27, 'MATH': 60, 'HISTORY': 24, 'HEALTH': 3}\n",
      "{'NAME': 'student30', 'CHINESE': 13, 'ENGLISH': 27, 'MATH': 93, 'HISTORY': 37, 'HEALTH': 9}\n",
      "{'NAME': 'student31', 'CHINESE': 23, 'ENGLISH': 4, 'MATH': 34, 'HISTORY': 40, 'HEALTH': 16}\n",
      "{'NAME': 'student32', 'CHINESE': 4, 'ENGLISH': 79, 'MATH': 79, 'HISTORY': 71, 'HEALTH': 21}\n",
      "{'NAME': 'student33', 'CHINESE': 70, 'ENGLISH': 40, 'MATH': 55, 'HISTORY': 67, 'HEALTH': 32}\n",
      "{'NAME': 'student34', 'CHINESE': 74, 'ENGLISH': 3, 'MATH': 91, 'HISTORY': 20, 'HEALTH': 87}\n",
      "{'NAME': 'student35', 'CHINESE': 38, 'ENGLISH': 48, 'MATH': 11, 'HISTORY': 44, 'HEALTH': 7}\n",
      "{'NAME': 'student36', 'CHINESE': 15, 'ENGLISH': 21, 'MATH': 24, 'HISTORY': 100, 'HEALTH': 86}\n",
      "{'NAME': 'student37', 'CHINESE': 1, 'ENGLISH': 29, 'MATH': 34, 'HISTORY': 71, 'HEALTH': 53}\n",
      "{'NAME': 'student38', 'CHINESE': 74, 'ENGLISH': 36, 'MATH': 14, 'HISTORY': 7, 'HEALTH': 26}\n",
      "{'NAME': 'student39', 'CHINESE': 4, 'ENGLISH': 11, 'MATH': 56, 'HISTORY': 26, 'HEALTH': 17}\n",
      "{'NAME': 'student40', 'CHINESE': 8, 'ENGLISH': 14, 'MATH': 80, 'HISTORY': 41, 'HEALTH': 91}\n",
      "{'NAME': 'student41', 'CHINESE': 60, 'ENGLISH': 17, 'MATH': 28, 'HISTORY': 56, 'HEALTH': 61}\n",
      "{'NAME': 'student42', 'CHINESE': 11, 'ENGLISH': 77, 'MATH': 53, 'HISTORY': 9, 'HEALTH': 88}\n",
      "{'NAME': 'student43', 'CHINESE': 100, 'ENGLISH': 11, 'MATH': 77, 'HISTORY': 61, 'HEALTH': 21}\n",
      "{'NAME': 'student44', 'CHINESE': 73, 'ENGLISH': 69, 'MATH': 66, 'HISTORY': 82, 'HEALTH': 60}\n",
      "{'NAME': 'student45', 'CHINESE': 19, 'ENGLISH': 6, 'MATH': 84, 'HISTORY': 59, 'HEALTH': 46}\n",
      "{'NAME': 'student46', 'CHINESE': 61, 'ENGLISH': 68, 'MATH': 77, 'HISTORY': 25, 'HEALTH': 52}\n",
      "{'NAME': 'student47', 'CHINESE': 11, 'ENGLISH': 65, 'MATH': 68, 'HISTORY': 56, 'HEALTH': 57}\n",
      "{'NAME': 'student48', 'CHINESE': 66, 'ENGLISH': 20, 'MATH': 37, 'HISTORY': 72, 'HEALTH': 18}\n",
      "{'NAME': 'student49', 'CHINESE': 49, 'ENGLISH': 26, 'MATH': 23, 'HISTORY': 38, 'HEALTH': 37}\n",
      "{'NAME': 'student50', 'CHINESE': 78, 'ENGLISH': 3, 'MATH': 50, 'HISTORY': 96, 'HEALTH': 74}\n"
     ]
    }
   ],
   "source": [
    "import random\n",
    "import string\n",
    "\n",
    "#請幫我產生50組學生的資料，包括NAME及5科成績，依序欄位為CHINESE、ENGLISH、MATH、HISTORY、HEALTH。\n",
    "students = []\n",
    "for i in range(1,51):\n",
    "    name = f'student{i}'\n",
    "    chinese = random.randint(0, 100)\n",
    "    english = random.randint(0, 100)\n",
    "    math = random.randint(0, 100)\n",
    "    history = random.randint(0, 100)\n",
    "    health = random.randint(0, 100)\n",
    "    students.append({'NAME': name, 'CHINESE': chinese, 'ENGLISH': english, 'MATH': math, 'HISTORY': history, 'HEALTH': health})\n",
    "\n",
    "for student in students:\n",
    "    print(student)"
   ]
  },
  {
   "cell_type": "code",
   "execution_count": 6,
   "metadata": {},
   "outputs": [],
   "source": [
    "import csv\n",
    "\n",
    "file = open('student.csv',mode='w',encoding='utf-8',newline='')\n",
    "writer =csv.DictWriter(file,[\"NAME\",\"CHINESE\",\"ENGLISH\",\"MATH\",\"HISTORY\",\"HEALTH\"])\n",
    "#print(type(writer))\n",
    "writer.writeheader()\n",
    "writer.writerows(students)\n",
    "\n",
    "file.close()\n",
    "#file.closed"
   ]
  }
 ],
 "metadata": {
  "kernelspec": {
   "display_name": "base",
   "language": "python",
   "name": "python3"
  },
  "language_info": {
   "codemirror_mode": {
    "name": "ipython",
    "version": 3
   },
   "file_extension": ".py",
   "mimetype": "text/x-python",
   "name": "python",
   "nbconvert_exporter": "python",
   "pygments_lexer": "ipython3",
   "version": "3.12.8"
  }
 },
 "nbformat": 4,
 "nbformat_minor": 2
}
