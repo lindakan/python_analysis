{
 "cells": [
  {
   "cell_type": "code",
   "execution_count": 1,
   "metadata": {},
   "outputs": [
    {
     "name": "stdout",
     "output_type": "stream",
     "text": [
      "[{'地址': '宜蘭市新民路152號',\n",
      "  '機構名稱': '國立陽明大學附設醫院護理之家',\n",
      "  '聯絡電話': '9325192',\n",
      "  '\\ufeff序號': '1'},\n",
      " {'地址': '羅東鎮中正南路160號',\n",
      "  '機構名稱': '天主教靈醫會醫療財團法人附設羅東聖母護理之家',\n",
      "  '聯絡電話': '9544106',\n",
      "  '\\ufeff序號': '2'},\n",
      " {'地址': '蘇澳鎮蘇濱路一段301號',\n",
      "  '機構名稱': '臺北榮民總醫院蘇澳分院附設護理之家',\n",
      "  '聯絡電話': '9905106',\n",
      "  '\\ufeff序號': '3'},\n",
      " {'地址': '員山鄉內城村榮光路386號',\n",
      "  '機構名稱': '臺北榮民總醫院員山分院附設護理之家',\n",
      "  '聯絡電話': '9222141',\n",
      "  '\\ufeff序號': '4'},\n",
      " {'地址': '員山鄉深溝村尚深路91號',\n",
      "  '機構名稱': '宜蘭員山醫療財團法人附設員山護理之家',\n",
      "  '聯絡電話': '9220292',\n",
      "  '\\ufeff序號': '5'},\n",
      " {'地址': '羅東鎮南門路37號3-5樓',\n",
      "  '機構名稱': '私立六福護理之家',\n",
      "  '聯絡電話': '9558886',\n",
      "  '\\ufeff序號': '6'},\n",
      " {'地址': '蘇澳鎮中山路一段218號3樓', '機構名稱': '建生護理之家', '聯絡電話': '9961121', '\\ufeff序號': '7'},\n",
      " {'地址': '宜蘭市宜興路一段79號3-5樓',\n",
      "  '機構名稱': '迦勤護理之家',\n",
      "  '聯絡電話': '9315119',\n",
      "  '\\ufeff序號': '8'}]\n"
     ]
    }
   ],
   "source": [
    "import csv\n",
    "from pprint import pprint\n",
    "with open(file='abc.csv',encoding='utf-8') as file:\n",
    "    reader = csv.DictReader(file)\n",
    "    homes = list(reader)\n",
    "\n",
    "pprint(homes)"
   ]
  },
  {
   "cell_type": "code",
   "execution_count": 3,
   "metadata": {},
   "outputs": [
    {
     "name": "stdout",
     "output_type": "stream",
     "text": [
      "YouBike即時資訊下載完成！\n"
     ]
    }
   ],
   "source": [
    "import requests\n",
    "\n",
    "url = 'https://tcgbusfs.blob.core.windows.net/dotapp/youbike/v2/youbike_immediate.json'\n",
    "\n",
    "try:\n",
    "    response = requests.get(url)\n",
    "    response.raise_for_status()  # 檢查HTTP狀態碼，確保請求成功\n",
    "\n",
    "    data = response.json()  # 將JSON格式的資料轉換為Python字典\n",
    "\n",
    "    # 在這裡你可以對data做任何處理，例如儲存到檔案或分析資料\n",
    "    # 以下是一個簡單的範例，將資料儲存到youbike_data.json檔案中\n",
    "    with open('youbike_data.json', 'w', encoding='utf-8') as f:\n",
    "        import json\n",
    "        json.dump(data, f, ensure_ascii=False, indent=4)\n",
    "\n",
    "    print('YouBike即時資訊下載完成！')\n",
    "\n",
    "except requests.exceptions.RequestException as e:\n",
    "    print(f'下載YouBike即時資訊時發生錯誤：{e}')\n",
    "except json.JSONDecodeError as e:\n",
    "    print(f'解析JSON資料時發生錯誤：{e}')"
   ]
  },
  {
   "cell_type": "code",
   "execution_count": 12,
   "metadata": {},
   "outputs": [
    {
     "data": {
      "text/plain": [
       "str"
      ]
     },
     "execution_count": 12,
     "metadata": {},
     "output_type": "execute_result"
    }
   ],
   "source": [
    "import requests\n",
    "from requests import Response\n",
    "\n",
    "url = 'https://tcgbusfs.blob.core.windows.net/dotapp/youbike/v2/youbike_immediate.json'\n",
    "response:Response = requests.get(url=url)\n",
    "type(response.text)"
   ]
  },
  {
   "cell_type": "code",
   "execution_count": 14,
   "metadata": {},
   "outputs": [],
   "source": [
    "sites:list = response.json()\n",
    "for item in sites:\n",
    "    if item['available_rent_bikes'] == '0':\n",
    "        print(item)"
   ]
  }
 ],
 "metadata": {
  "kernelspec": {
   "display_name": "base",
   "language": "python",
   "name": "python3"
  },
  "language_info": {
   "codemirror_mode": {
    "name": "ipython",
    "version": 3
   },
   "file_extension": ".py",
   "mimetype": "text/x-python",
   "name": "python",
   "nbconvert_exporter": "python",
   "pygments_lexer": "ipython3",
   "version": "3.12.2"
  }
 },
 "nbformat": 4,
 "nbformat_minor": 2
}
