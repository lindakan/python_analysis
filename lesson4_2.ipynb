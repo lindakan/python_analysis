{
 "cells": [
  {
   "cell_type": "code",
   "execution_count": 1,
   "metadata": {},
   "outputs": [
    {
     "name": "stdout",
     "output_type": "stream",
     "text": [
      "NAME,CHINESE,ENGLISH,MATH,HISTORY,HEALTH\n",
      "student1,26,4,17,70,49\n",
      "student2,0,16,32,28,17\n",
      "student3,13,89,68,27,91\n",
      "student4,86,62,75,29,61\n",
      "student5,89,59,70,33,22\n",
      "student6,38,72,37,68,47\n",
      "student7,63,14,33,84,7\n",
      "student8,35,11,76,97,80\n",
      "student9,48,45,60,23,17\n",
      "student10,15,49,47,55,90\n",
      "student11,58,15,98,99,12\n",
      "student12,20,78,86,24,59\n",
      "student13,82,64,23,49,75\n",
      "student14,5,90,40,76,92\n",
      "student15,66,88,77,99,64\n",
      "student16,30,56,41,53,69\n",
      "student17,5,0,16,58,78\n",
      "student18,3,17,8,55,74\n",
      "student19,13,43,49,78,13\n",
      "student20,89,79,5,50,8\n",
      "student21,73,61,18,8,49\n",
      "student22,20,81,22,86,41\n",
      "student23,60,44,69,57,57\n",
      "student24,8,45,98,65,47\n",
      "student25,43,80,17,49,31\n",
      "student26,24,12,12,56,61\n",
      "student27,12,37,80,30,45\n",
      "student28,99,90,75,70,94\n",
      "student29,99,27,60,24,3\n",
      "student30,13,27,93,37,9\n",
      "student31,23,4,34,40,16\n",
      "student32,4,79,79,71,21\n",
      "student33,70,40,55,67,32\n",
      "student34,74,3,91,20,87\n",
      "student35,38,48,11,44,7\n",
      "student36,15,21,24,100,86\n",
      "student37,1,29,34,71,53\n",
      "student38,74,36,14,7,26\n",
      "student39,4,11,56,26,17\n",
      "student40,8,14,80,41,91\n",
      "student41,60,17,28,56,61\n",
      "student42,11,77,53,9,88\n",
      "student43,100,11,77,61,21\n",
      "student44,73,69,66,82,60\n",
      "student45,19,6,84,59,46\n",
      "student46,61,68,77,25,52\n",
      "student47,11,65,68,56,57\n",
      "student48,66,20,37,72,18\n",
      "student49,49,26,23,38,37\n",
      "student50,78,3,50,96,74\n",
      "\n"
     ]
    }
   ],
   "source": [
    "with open(file='student.csv',encoding='utf-8') as file:\n",
    "    content:str = file.read()\n",
    "\n",
    "print(content)"
   ]
  },
  {
   "cell_type": "code",
   "execution_count": 1,
   "metadata": {},
   "outputs": [
    {
     "name": "stdout",
     "output_type": "stream",
     "text": [
      "['student20', '89', '79', '5', '50', '8']\n"
     ]
    }
   ],
   "source": [
    "import csv\n",
    "with open(file='student.csv',encoding='utf-8') as file:\n",
    "    reader = csv.reader(file)\n",
    "    next(reader)\n",
    "    students:list = list(reader)\n",
    "\n",
    "for student in students:\n",
    "    if student[0] == 'student20':\n",
    "        print(student)"
   ]
  },
  {
   "cell_type": "code",
   "execution_count": 3,
   "metadata": {},
   "outputs": [
    {
     "name": "stdout",
     "output_type": "stream",
     "text": [
      "{'NAME': 'student20', 'CHINESE': '89', 'ENGLISH': '79', 'MATH': '5', 'HISTORY': '50', 'HEALTH': '8'}\n"
     ]
    }
   ],
   "source": [
    "import csv\n",
    "with open(file='student.csv',encoding='utf-8') as file:\n",
    "    reader = csv.DictReader(file)\n",
    "    students = list(reader)\n",
    "\n",
    "for student in students:\n",
    "    if student['NAME'] == 'student20':\n",
    "        print(student)"
   ]
  },
  {
   "cell_type": "code",
   "execution_count": 5,
   "metadata": {},
   "outputs": [
    {
     "name": "stdout",
     "output_type": "stream",
     "text": [
      "{'NAME': 'student20', 'CHINESE': '89', 'ENGLISH': '79', 'MATH': '5', 'HISTORY': '50', 'HEALTH': '8'}\n"
     ]
    }
   ],
   "source": [
    "import csv\n",
    "with open(file='student.csv',encoding='utf-8') as file:\n",
    "    reader = csv.DictReader(file)\n",
    "    students = list(reader)\n",
    "\n",
    "for student in students:\n",
    "    if student['NAME'] == 'student20':\n",
    "        print(student)"
   ]
  }
 ],
 "metadata": {
  "kernelspec": {
   "display_name": "base",
   "language": "python",
   "name": "python3"
  },
  "language_info": {
   "codemirror_mode": {
    "name": "ipython",
    "version": 3
   },
   "file_extension": ".py",
   "mimetype": "text/x-python",
   "name": "python",
   "nbconvert_exporter": "python",
   "pygments_lexer": "ipython3",
   "version": "3.12.2"
  }
 },
 "nbformat": 4,
 "nbformat_minor": 2
}
