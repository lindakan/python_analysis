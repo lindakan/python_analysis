{
 "cells": [
  {
   "cell_type": "code",
   "execution_count": null,
   "metadata": {},
   "outputs": [],
   "source": [
    "import pandas as pd"
   ]
  },
  {
   "cell_type": "code",
   "execution_count": 2,
   "metadata": {},
   "outputs": [
    {
     "data": {
      "text/html": [
       "<div>\n",
       "<style scoped>\n",
       "    .dataframe tbody tr th:only-of-type {\n",
       "        vertical-align: middle;\n",
       "    }\n",
       "\n",
       "    .dataframe tbody tr th {\n",
       "        vertical-align: top;\n",
       "    }\n",
       "\n",
       "    .dataframe thead th {\n",
       "        text-align: right;\n",
       "    }\n",
       "</style>\n",
       "<table border=\"1\" class=\"dataframe\">\n",
       "  <thead>\n",
       "    <tr style=\"text-align: right;\">\n",
       "      <th></th>\n",
       "      <th>國文</th>\n",
       "      <th>英文</th>\n",
       "      <th>數學</th>\n",
       "      <th>地理</th>\n",
       "      <th>探討</th>\n",
       "    </tr>\n",
       "  </thead>\n",
       "  <tbody>\n",
       "    <tr>\n",
       "      <th>黃必琪</th>\n",
       "      <td>95</td>\n",
       "      <td>99</td>\n",
       "      <td>74</td>\n",
       "      <td>94</td>\n",
       "      <td>85</td>\n",
       "    </tr>\n",
       "    <tr>\n",
       "      <th>李政成</th>\n",
       "      <td>77</td>\n",
       "      <td>97</td>\n",
       "      <td>84</td>\n",
       "      <td>63</td>\n",
       "      <td>75</td>\n",
       "    </tr>\n",
       "    <tr>\n",
       "      <th>陳彥治</th>\n",
       "      <td>57</td>\n",
       "      <td>80</td>\n",
       "      <td>62</td>\n",
       "      <td>62</td>\n",
       "      <td>96</td>\n",
       "    </tr>\n",
       "    <tr>\n",
       "      <th>陳姵彬</th>\n",
       "      <td>67</td>\n",
       "      <td>51</td>\n",
       "      <td>76</td>\n",
       "      <td>98</td>\n",
       "      <td>98</td>\n",
       "    </tr>\n",
       "    <tr>\n",
       "      <th>林瑞喬</th>\n",
       "      <td>84</td>\n",
       "      <td>51</td>\n",
       "      <td>58</td>\n",
       "      <td>58</td>\n",
       "      <td>69</td>\n",
       "    </tr>\n",
       "  </tbody>\n",
       "</table>\n",
       "</div>"
      ],
      "text/plain": [
       "     國文  英文  數學  地理  探討\n",
       "黃必琪  95  99  74  94  85\n",
       "李政成  77  97  84  63  75\n",
       "陳彥治  57  80  62  62  96\n",
       "陳姵彬  67  51  76  98  98\n",
       "林瑞喬  84  51  58  58  69"
      ]
     },
     "execution_count": 2,
     "metadata": {},
     "output_type": "execute_result"
    }
   ],
   "source": [
    "import pandas as pd\n",
    "df = pd.read_csv('student.csv',index_col=0)\n",
    "df"
   ]
  },
  {
   "cell_type": "code",
   "execution_count": 3,
   "metadata": {},
   "outputs": [
    {
     "data": {
      "text/plain": [
       "黃必琪    447\n",
       "李政成    396\n",
       "陳彥治    357\n",
       "陳姵彬    390\n",
       "林瑞喬    320\n",
       "dtype: int64"
      ]
     },
     "execution_count": 3,
     "metadata": {},
     "output_type": "execute_result"
    }
   ],
   "source": [
    "df['國文'] + df['英文'] + df['地理'] + df['數學'] + df['探討']"
   ]
  },
  {
   "cell_type": "code",
   "execution_count": 4,
   "metadata": {},
   "outputs": [],
   "source": [
    "stu_sum = df.sum(axis=1)\n",
    "stu_mean = stu_sum / 5.0"
   ]
  },
  {
   "cell_type": "code",
   "execution_count": 5,
   "metadata": {},
   "outputs": [],
   "source": [
    "df['總分'] = stu_sum\n",
    "df['平均'] = stu_mean"
   ]
  },
  {
   "cell_type": "code",
   "execution_count": 6,
   "metadata": {},
   "outputs": [
    {
     "data": {
      "text/html": [
       "<div>\n",
       "<style scoped>\n",
       "    .dataframe tbody tr th:only-of-type {\n",
       "        vertical-align: middle;\n",
       "    }\n",
       "\n",
       "    .dataframe tbody tr th {\n",
       "        vertical-align: top;\n",
       "    }\n",
       "\n",
       "    .dataframe thead th {\n",
       "        text-align: right;\n",
       "    }\n",
       "</style>\n",
       "<table border=\"1\" class=\"dataframe\">\n",
       "  <thead>\n",
       "    <tr style=\"text-align: right;\">\n",
       "      <th></th>\n",
       "      <th>國文</th>\n",
       "      <th>英文</th>\n",
       "      <th>數學</th>\n",
       "      <th>地理</th>\n",
       "      <th>探討</th>\n",
       "      <th>總分</th>\n",
       "      <th>平均</th>\n",
       "    </tr>\n",
       "  </thead>\n",
       "  <tbody>\n",
       "    <tr>\n",
       "      <th>黃必琪</th>\n",
       "      <td>95</td>\n",
       "      <td>99</td>\n",
       "      <td>74</td>\n",
       "      <td>94</td>\n",
       "      <td>85</td>\n",
       "      <td>447</td>\n",
       "      <td>89.4</td>\n",
       "    </tr>\n",
       "    <tr>\n",
       "      <th>李政成</th>\n",
       "      <td>77</td>\n",
       "      <td>97</td>\n",
       "      <td>84</td>\n",
       "      <td>63</td>\n",
       "      <td>75</td>\n",
       "      <td>396</td>\n",
       "      <td>79.2</td>\n",
       "    </tr>\n",
       "    <tr>\n",
       "      <th>陳彥治</th>\n",
       "      <td>57</td>\n",
       "      <td>80</td>\n",
       "      <td>62</td>\n",
       "      <td>62</td>\n",
       "      <td>96</td>\n",
       "      <td>357</td>\n",
       "      <td>71.4</td>\n",
       "    </tr>\n",
       "    <tr>\n",
       "      <th>陳姵彬</th>\n",
       "      <td>67</td>\n",
       "      <td>51</td>\n",
       "      <td>76</td>\n",
       "      <td>98</td>\n",
       "      <td>98</td>\n",
       "      <td>390</td>\n",
       "      <td>78.0</td>\n",
       "    </tr>\n",
       "    <tr>\n",
       "      <th>林瑞喬</th>\n",
       "      <td>84</td>\n",
       "      <td>51</td>\n",
       "      <td>58</td>\n",
       "      <td>58</td>\n",
       "      <td>69</td>\n",
       "      <td>320</td>\n",
       "      <td>64.0</td>\n",
       "    </tr>\n",
       "  </tbody>\n",
       "</table>\n",
       "</div>"
      ],
      "text/plain": [
       "     國文  英文  數學  地理  探討   總分    平均\n",
       "黃必琪  95  99  74  94  85  447  89.4\n",
       "李政成  77  97  84  63  75  396  79.2\n",
       "陳彥治  57  80  62  62  96  357  71.4\n",
       "陳姵彬  67  51  76  98  98  390  78.0\n",
       "林瑞喬  84  51  58  58  69  320  64.0"
      ]
     },
     "execution_count": 6,
     "metadata": {},
     "output_type": "execute_result"
    }
   ],
   "source": [
    "df"
   ]
  }
 ],
 "metadata": {
  "kernelspec": {
   "display_name": "base",
   "language": "python",
   "name": "python3"
  },
  "language_info": {
   "codemirror_mode": {
    "name": "ipython",
    "version": 3
   },
   "file_extension": ".py",
   "mimetype": "text/x-python",
   "name": "python",
   "nbconvert_exporter": "python",
   "pygments_lexer": "ipython3",
   "version": "3.12.2"
  }
 },
 "nbformat": 4,
 "nbformat_minor": 2
}
